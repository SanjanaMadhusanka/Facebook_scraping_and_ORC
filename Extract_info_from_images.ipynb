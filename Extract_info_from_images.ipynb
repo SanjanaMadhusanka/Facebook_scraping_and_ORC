{
 "cells": [
  {
   "cell_type": "code",
   "execution_count": 34,
   "metadata": {},
   "outputs": [],
   "source": [
    "import pandas as pd\n",
    "import spacy\n",
    "from spacy.matcher import Matcher\n",
    "from spacy.tokens import Span\n",
    "from spacy import displacy\n",
    "import re"
   ]
  },
  {
   "cell_type": "code",
   "execution_count": 35,
   "metadata": {},
   "outputs": [
    {
     "data": {
      "text/plain": [
       "'LKR 8780 nett per person per night on double full board basis, LKR 10851 phone number 0775233585 hotellanka123@gmail.com www.hotel12.com 2012-01-08 get 25% discount sampath bank and BOC'"
      ]
     },
     "execution_count": 35,
     "metadata": {},
     "output_type": "execute_result"
    }
   ],
   "source": [
    "#importing text\n",
    "text = \"LKR 8 780/- nett per person per night on double full board basis, LKR 10 851 phone number 0775233585 hotellanka123@gmail.com www.hotel12.com 2012-01-08 get 25% discount sampath bank and BOC\"\n",
    "\n",
    "#remove /- mark in the prices\n",
    "text = text.replace(\"/-\", \"\")\n",
    "\n",
    "#remove space between prices\n",
    "text = re.sub(r'(\\d)\\s+(\\d)', r'\\1\\2', text)\n",
    "text"
   ]
  },
  {
   "cell_type": "code",
   "execution_count": 36,
   "metadata": {},
   "outputs": [],
   "source": [
    "#Defining the required variables.\n",
    "half_board_Price =[]\n",
    "full_board_Price = []\n",
    "email = []\n",
    "website =[]\n",
    "phone =[]\n",
    "discount =[]\n",
    "bank_name =[]"
   ]
  },
  {
   "cell_type": "code",
   "execution_count": 37,
   "metadata": {},
   "outputs": [],
   "source": [
    "#extracting full board and half board prices based on the max and min prices"
   ]
  },
  {
   "cell_type": "code",
   "execution_count": 38,
   "metadata": {},
   "outputs": [
    {
     "name": "stdout",
     "output_type": "stream",
     "text": [
      "8780.0\n",
      "<class 'list'>\n"
     ]
    }
   ],
   "source": [
    "hb_price=re.findall(r\"(\\d{1,5})(?=\\s*nett)|(\\d{1,5})(?=\\s*LKR)|(\\d{1,5})(?=\\s*lkr)|(\\d{1,5})(?=\\s*Lkr)|(\\d{1,5})(?=\\s*Nett)|(\\d{1,5})(?=\\s*NETT)|(?<=LKR\\s)(\\d{1,5})|(?<=lkr\\s)(\\d{1,5})|(?<=Lkr\\s)(\\d{1,5})|(?<=Rs.\\s)(\\d{1,5})|(?<=rs.\\s)(\\d{1,5})|(?<=RS.\\s)(\\d{1,5})\", text)\n",
    "\n",
    "#cleanup the tuple\n",
    "hb_price = [tuple(j for j in i if j)[-1] for i in hb_price] \n",
    "\n",
    "#getting the min price as half board price\n",
    "hb_price = list(map(float,hb_price)) \n",
    "print(min(hb_price))\n",
    "half_board_Price=min(hb_price)\n",
    "\n",
    "half_board_Price = [float(half_board_Price)]\n",
    "\n",
    "print(type(half_board_Price))"
   ]
  },
  {
   "cell_type": "code",
   "execution_count": 39,
   "metadata": {},
   "outputs": [
    {
     "name": "stdout",
     "output_type": "stream",
     "text": [
      "10851.0\n"
     ]
    }
   ],
   "source": [
    "fb_price=re.findall(r\"(\\d{1,5})(?=\\s*nett)|(\\d{1,5})(?=\\s*LKR)|(\\d{1,5})(?=\\s*lkr)|(\\d{1,5})(?=\\s*Lkr)|(\\d{1,5})(?=\\s*Nett)|(\\d{1,5})(?=\\s*NETT)|(?<=LKR\\s)(\\d{1,5})|(?<=lkr\\s)(\\d{1,5})|(?<=Lkr\\s)(\\d{1,5})|(?<=Rs.\\s)(\\d{1,5})|(?<=rs.\\s)(\\d{1,5})|(?<=RS.\\s)(\\d{1,5})\", text)\n",
    "\n",
    "#cleanup the tuple\n",
    "fb_price = [tuple(j for j in i if j)[-1] for i in fb_price] \n",
    "\n",
    "#getting the max price as full board price\n",
    "fb_price = list(map(float,fb_price)) \n",
    "print(max(fb_price))\n",
    "full_board_Price=max(fb_price)\n",
    "full_board_Price = [float(full_board_Price)]"
   ]
  },
  {
   "cell_type": "code",
   "execution_count": 40,
   "metadata": {},
   "outputs": [
    {
     "data": {
      "text/plain": [
       "['hotellanka123@gmail.com']"
      ]
     },
     "execution_count": 40,
     "metadata": {},
     "output_type": "execute_result"
    }
   ],
   "source": [
    "#extracting the email\n",
    "\n",
    "email = re.findall(r'[\\w\\.-]+@[\\w\\.-]+', text) #getting the email\n",
    "email"
   ]
  },
  {
   "cell_type": "code",
   "execution_count": 41,
   "metadata": {},
   "outputs": [
    {
     "data": {
      "text/plain": [
       "['www.hotel12.com']"
      ]
     },
     "execution_count": 41,
     "metadata": {},
     "output_type": "execute_result"
    }
   ],
   "source": [
    "#extracting the website\n",
    "\n",
    "website = re.findall(r'[www]\\S*', text) #getting the email\n",
    "website"
   ]
  },
  {
   "cell_type": "code",
   "execution_count": 42,
   "metadata": {},
   "outputs": [
    {
     "data": {
      "text/plain": [
       "['0775233585']"
      ]
     },
     "execution_count": 42,
     "metadata": {},
     "output_type": "execute_result"
    }
   ],
   "source": [
    "#extracting the contact number\n",
    "\n",
    "phone = re.findall(r'\\d{10}|\\d{11}|\\d{9}', text)\n",
    "phone"
   ]
  },
  {
   "cell_type": "code",
   "execution_count": 43,
   "metadata": {},
   "outputs": [
    {
     "data": {
      "text/plain": [
       "['2012-01-08']"
      ]
     },
     "execution_count": 43,
     "metadata": {},
     "output_type": "execute_result"
    }
   ],
   "source": [
    "#extracting the date\n",
    "\n",
    "date = re.findall(r'[0-9]{2}-[0-9]{2}-[0-9]{4}|[0-9]{4}-[0-9]{2}-[0-9]{2}|[0-9]{2}-[0-9]{2}-[0-9]{2}|[0-9]{2}/[0-9]{2}/[0-9]{4}|[0-9]{4}/[0-9]{2}/[0-9]{2}|[0-9]{2}/[0-9]{2}/[0-9]{2}', text,re.IGNORECASE)\n",
    "date"
   ]
  },
  {
   "cell_type": "code",
   "execution_count": 44,
   "metadata": {},
   "outputs": [
    {
     "data": {
      "text/plain": [
       "['25%']"
      ]
     },
     "execution_count": 44,
     "metadata": {},
     "output_type": "execute_result"
    }
   ],
   "source": [
    "#extracting the discount rate\n",
    "\n",
    "discount =  re.findall(r'\\d.%', text)\n",
    "discount"
   ]
  },
  {
   "cell_type": "code",
   "execution_count": 45,
   "metadata": {},
   "outputs": [
    {
     "data": {
      "text/plain": [
       "['sampath bank', 'BOC']"
      ]
     },
     "execution_count": 45,
     "metadata": {},
     "output_type": "execute_result"
    }
   ],
   "source": [
    "#extracting the card payment offered bank name\n",
    "\n",
    "bank_name = re.findall(r'Sampath Bank|Amana Bank PLC|Bank of Ceylon|Bank of China Ltd|Cargills Bank Ltd|Citibank|Commercial Bank of Ceylon PLC|Deutsche Bank AG|DFCC Bank PLC|Habib Bank Ltd|Hatton National Bank PLC|Indian Bank|Indian Overseas Bank|MCB Bank Ltd|National Development Bank PLC|Nations Trust Bank PLC|Pan Asia Banking Corporation PLC|People s Bank|Public Bank Berhad|Seylan Bank|Standard Chartered Bank|State Bank of India|HSBC|Union Bank of Colombo|American Express|Amex|Seylan|ComBank|ABL|BOC|CBC|DFCC|HNB|ICICI|NDB|NTB|SBI|HSBC', text, flags=re.IGNORECASE)\n",
    "bank_name"
   ]
  },
  {
   "cell_type": "code",
   "execution_count": 46,
   "metadata": {},
   "outputs": [
    {
     "data": {
      "text/html": [
       "<div>\n",
       "<style scoped>\n",
       "    .dataframe tbody tr th:only-of-type {\n",
       "        vertical-align: middle;\n",
       "    }\n",
       "\n",
       "    .dataframe tbody tr th {\n",
       "        vertical-align: top;\n",
       "    }\n",
       "\n",
       "    .dataframe thead th {\n",
       "        text-align: right;\n",
       "    }\n",
       "</style>\n",
       "<table border=\"1\" class=\"dataframe\">\n",
       "  <thead>\n",
       "    <tr style=\"text-align: right;\">\n",
       "      <th></th>\n",
       "      <th>half_board_Price</th>\n",
       "      <th>full_board_Price</th>\n",
       "      <th>website</th>\n",
       "      <th>phone</th>\n",
       "      <th>date</th>\n",
       "      <th>discount</th>\n",
       "      <th>bank_name</th>\n",
       "    </tr>\n",
       "  </thead>\n",
       "  <tbody>\n",
       "    <tr>\n",
       "      <th>0</th>\n",
       "      <td>8780.0</td>\n",
       "      <td>10851.0</td>\n",
       "      <td>www.hotel12.com</td>\n",
       "      <td>0775233585</td>\n",
       "      <td>2012-01-08</td>\n",
       "      <td>25%</td>\n",
       "      <td>sampath bank</td>\n",
       "    </tr>\n",
       "  </tbody>\n",
       "</table>\n",
       "</div>"
      ],
      "text/plain": [
       "   half_board_Price  full_board_Price          website       phone  \\\n",
       "0            8780.0           10851.0  www.hotel12.com  0775233585   \n",
       "\n",
       "         date discount     bank_name  \n",
       "0  2012-01-08      25%  sampath bank  "
      ]
     },
     "execution_count": 46,
     "metadata": {},
     "output_type": "execute_result"
    }
   ],
   "source": [
    "#make a dataframe \n",
    "df = pd.DataFrame(list(zip(*[half_board_Price,full_board_Price,website,phone,date,discount,bank_name]))).add_prefix('Col')\n",
    "df.rename(columns = {'Col0':'half_board_Price', 'Col1':'full_board_Price','Col2':'website','Col3':'phone','Col4':'date','Col5':'discount','Col6':'bank_name'}, inplace = True)\n",
    "\n",
    "#save dataframe as a csv\n",
    "df.to_csv('file.csv', index=False)\n",
    "df"
   ]
  }
 ],
 "metadata": {
  "kernelspec": {
   "display_name": "Python 3",
   "language": "python",
   "name": "python3"
  },
  "language_info": {
   "codemirror_mode": {
    "name": "ipython",
    "version": 3
   },
   "file_extension": ".py",
   "mimetype": "text/x-python",
   "name": "python",
   "nbconvert_exporter": "python",
   "pygments_lexer": "ipython3",
   "version": "3.9.2"
  }
 },
 "nbformat": 4,
 "nbformat_minor": 4
}
