{
 "cells": [
  {
   "cell_type": "markdown",
   "metadata": {},
   "source": [
    "# Extract Information Using Regular Expression"
   ]
  },
  {
   "cell_type": "code",
   "execution_count": 69,
   "metadata": {},
   "outputs": [],
   "source": [
    "#importing libraries\n",
    "\n",
    "import pandas as pd\n",
    "import spacy\n",
    "from spacy.matcher import Matcher\n",
    "from spacy.tokens import Span\n",
    "from spacy import displacy\n",
    "import re"
   ]
  },
  {
   "cell_type": "code",
   "execution_count": 70,
   "metadata": {},
   "outputs": [],
   "source": [
    "#importing text\n",
    "\n",
    "with open('data.txt', 'r') as file:\n",
    "    text = file.read().replace('\\n', '')\n",
    "\n",
    "#remove space between digits\n",
    "text = re.sub(r'(\\d)\\s+(\\d)', r'\\1\\2', text)"
   ]
  },
  {
   "cell_type": "code",
   "execution_count": 71,
   "metadata": {},
   "outputs": [],
   "source": [
    "#Defining the required variables.\n",
    "half_board_Price =[]\n",
    "full_board_Price = []\n",
    "email = []\n",
    "website =[]\n",
    "phone =[]\n",
    "discount =[]\n",
    "bank_name =[]"
   ]
  },
  {
   "cell_type": "markdown",
   "metadata": {},
   "source": [
    "### Extracting the price"
   ]
  },
  {
   "cell_type": "code",
   "execution_count": 72,
   "metadata": {},
   "outputs": [
    {
     "name": "stdout",
     "output_type": "stream",
     "text": [
      "post has two price rates\n"
     ]
    }
   ],
   "source": [
    "#assing price if post have only one price rate\n",
    "\n",
    "Price_finder = re.findall(r'full board|half board', text, flags=re.IGNORECASE)\n",
    "hb_price=re.findall(r\"(\\d{1,5})(?=\\s*nett)|(\\d{1,5})(?=\\s*LKR)|(\\d{1,5})(?=\\s*lkr)|(\\d{1,5})(?=\\s*Lkr)|(\\d{1,5})(?=\\s*Nett)|(\\d{1,5})(?=\\s*NETT)|(?<=LKR\\s)(\\d{1,5})|(?<=lkr\\s)(\\d{1,5})|(?<=Lkr\\s)(\\d{1,5})|(?<=Rs.\\s)(\\d{1,5})|(?<=rs.\\s)(\\d{1,5})|(?<=RS.\\s)(\\d{1,5})\", text)\n",
    "\n",
    "#cleanup the tuple\n",
    "hb_price = [tuple(j for j in i if j)[-1] for i in hb_price]\n",
    "hb_price\n",
    "\n",
    "if len(hb_price) == 1 and Price_finder == ['full board']:\n",
    "    full_board_Price = hb_price\n",
    "elif len(hb_price) == 1 and Price_finder == ['half board']:\n",
    "    half_board_Price = hb_price\n",
    "else:\n",
    " print(\"post has two price rates\")"
   ]
  },
  {
   "cell_type": "code",
   "execution_count": 73,
   "metadata": {},
   "outputs": [],
   "source": [
    "#extracting full board and half board prices based on the max and min prices\n",
    "#getting the min price as half board price and getting the max price as full board price\n",
    "\n",
    "if len(hb_price) == 2:\n",
    " hb_price = list(map(float,hb_price))\n",
    " half_board_Price=min(hb_price)\n",
    " half_board_Price = [float(half_board_Price)]\n",
    "\n",
    " hb_price = list(map(float,hb_price))\n",
    " full_board_Price=max(hb_price)\n",
    " full_board_Price = [float(full_board_Price)]\n",
    "else:\n",
    "    exit"
   ]
  },
  {
   "cell_type": "code",
   "execution_count": 74,
   "metadata": {},
   "outputs": [
    {
     "data": {
      "text/plain": [
       "[5851.0]"
      ]
     },
     "execution_count": 74,
     "metadata": {},
     "output_type": "execute_result"
    }
   ],
   "source": [
    "half_board_Price"
   ]
  },
  {
   "cell_type": "code",
   "execution_count": 75,
   "metadata": {},
   "outputs": [
    {
     "data": {
      "text/plain": [
       "[8580.0]"
      ]
     },
     "execution_count": 75,
     "metadata": {},
     "output_type": "execute_result"
    }
   ],
   "source": [
    "full_board_Price"
   ]
  },
  {
   "cell_type": "markdown",
   "metadata": {},
   "source": [
    "### Extracting the email"
   ]
  },
  {
   "cell_type": "code",
   "execution_count": 76,
   "metadata": {},
   "outputs": [
    {
     "data": {
      "text/plain": [
       "['hotellanka@gmail.com']"
      ]
     },
     "execution_count": 76,
     "metadata": {},
     "output_type": "execute_result"
    }
   ],
   "source": [
    "email = re.findall(r'[\\w\\.-]+@[\\w\\.-]+', text) #getting the email\n",
    "email"
   ]
  },
  {
   "cell_type": "markdown",
   "metadata": {},
   "source": [
    "### Extracting the website"
   ]
  },
  {
   "cell_type": "code",
   "execution_count": 77,
   "metadata": {},
   "outputs": [
    {
     "data": {
      "text/plain": [
       "['www.hotellanka.com']"
      ]
     },
     "execution_count": 77,
     "metadata": {},
     "output_type": "execute_result"
    }
   ],
   "source": [
    "website = re.findall(r'[www]\\S*', text) #getting the email\n",
    "website"
   ]
  },
  {
   "cell_type": "markdown",
   "metadata": {},
   "source": [
    "### Extracting the contact number"
   ]
  },
  {
   "cell_type": "code",
   "execution_count": 78,
   "metadata": {},
   "outputs": [
    {
     "data": {
      "text/plain": [
       "['0775233585']"
      ]
     },
     "execution_count": 78,
     "metadata": {},
     "output_type": "execute_result"
    }
   ],
   "source": [
    "phone = re.findall(r'\\d{10}|\\d{11}|\\d{9}', text)\n",
    "phone"
   ]
  },
  {
   "cell_type": "markdown",
   "metadata": {},
   "source": [
    "### Extracting the date"
   ]
  },
  {
   "cell_type": "code",
   "execution_count": 79,
   "metadata": {},
   "outputs": [
    {
     "data": {
      "text/plain": [
       "['2012-01-08']"
      ]
     },
     "execution_count": 79,
     "metadata": {},
     "output_type": "execute_result"
    }
   ],
   "source": [
    "date = re.findall(r'[0-9]{2}-[0-9]{2}-[0-9]{4}|[0-9]{4}-[0-9]{2}-[0-9]{2}|[0-9]{2}-[0-9]{2}-[0-9]{2}|[0-9]{2}/[0-9]{2}/[0-9]{4}|[0-9]{4}/[0-9]{2}/[0-9]{2}|[0-9]{2}/[0-9]{2}/[0-9]{2}', text,re.IGNORECASE)\n",
    "date"
   ]
  },
  {
   "cell_type": "markdown",
   "metadata": {},
   "source": [
    "### Extracting the discount rate"
   ]
  },
  {
   "cell_type": "code",
   "execution_count": 80,
   "metadata": {},
   "outputs": [
    {
     "data": {
      "text/plain": [
       "['25%']"
      ]
     },
     "execution_count": 80,
     "metadata": {},
     "output_type": "execute_result"
    }
   ],
   "source": [
    "discount =  re.findall(r'\\d.%', text)\n",
    "discount"
   ]
  },
  {
   "cell_type": "markdown",
   "metadata": {},
   "source": [
    "### Extracting the card payment offered bank name"
   ]
  },
  {
   "cell_type": "code",
   "execution_count": 81,
   "metadata": {},
   "outputs": [
    {
     "data": {
      "text/plain": [
       "['sampath bank', 'BOC']"
      ]
     },
     "execution_count": 81,
     "metadata": {},
     "output_type": "execute_result"
    }
   ],
   "source": [
    "bank_name = re.findall(r'Sampath Bank|Amana Bank PLC|Bank of Ceylon|Bank of China Ltd|Cargills Bank Ltd|Citibank|Commercial Bank of Ceylon PLC|Deutsche Bank AG|DFCC Bank PLC|Habib Bank Ltd|Hatton National Bank PLC|Indian Bank|Indian Overseas Bank|MCB Bank Ltd|National Development Bank PLC|Nations Trust Bank PLC|Pan Asia Banking Corporation PLC|People s Bank|Public Bank Berhad|Seylan Bank|Standard Chartered Bank|State Bank of India|HSBC|Union Bank of Colombo|American Express|Amex|Seylan|ComBank|ABL|BOC|CBC|DFCC|HNB|ICICI|NDB|NTB|SBI|HSBC', text, flags=re.IGNORECASE)\n",
    "bank_name"
   ]
  },
  {
   "cell_type": "markdown",
   "metadata": {},
   "source": [
    "### Append extracted data to a dataframe and save as a csv file "
   ]
  },
  {
   "cell_type": "code",
   "execution_count": 82,
   "metadata": {},
   "outputs": [],
   "source": [
    "#make a dataframe \n",
    "df = pd.DataFrame(list(zip(*[half_board_Price,full_board_Price,website,phone,date,discount,bank_name]))).add_prefix('Col')\n",
    "df.rename(columns = {'Col0':'half_board_Price', 'Col1':'full_board_Price','Col2':'website','Col3':'phone','Col4':'date','Col5':'discount','Col6':'bank_name'}, inplace = True)\n",
    "\n",
    "#save dataframe as a csv\n",
    "df.to_csv('data.csv', index=False)"
   ]
  }
 ],
 "metadata": {
  "kernelspec": {
   "display_name": "Python 3",
   "language": "python",
   "name": "python3"
  },
  "language_info": {
   "codemirror_mode": {
    "name": "ipython",
    "version": 3
   },
   "file_extension": ".py",
   "mimetype": "text/x-python",
   "name": "python",
   "nbconvert_exporter": "python",
   "pygments_lexer": "ipython3",
   "version": "3.9.2"
  }
 },
 "nbformat": 4,
 "nbformat_minor": 4
}
