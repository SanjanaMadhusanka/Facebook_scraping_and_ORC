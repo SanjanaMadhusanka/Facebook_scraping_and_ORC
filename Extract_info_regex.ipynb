{
 "cells": [
  {
   "cell_type": "markdown",
   "metadata": {},
   "source": [
    "# Extract Information Using Regular Expression"
   ]
  },
  {
   "cell_type": "code",
   "execution_count": null,
   "metadata": {},
   "outputs": [],
   "source": [
    "#importing libraries\n",
    "\n",
    "import pandas as pd\n",
    "import spacy\n",
    "from spacy.matcher import Matcher\n",
    "from spacy.tokens import Span\n",
    "from spacy import displacy\n",
    "import re"
   ]
  },
  {
   "cell_type": "code",
   "execution_count": null,
   "metadata": {},
   "outputs": [],
   "source": [
    "#importing text\n",
    "\n",
    "with open('data.txt', 'r') as file:\n",
    "    text = file.read().replace('\\n', '')\n",
    "\n",
    "#remove space between digits\n",
    "text = re.sub(r'(\\d)\\s+(\\d)', r'\\1\\2', text)"
   ]
  },
  {
   "cell_type": "code",
   "execution_count": null,
   "metadata": {},
   "outputs": [],
   "source": [
    "#Defining the required variables.\n",
    "half_board_Price =[]\n",
    "full_board_Price = []\n",
    "email = []\n",
    "website =[]\n",
    "phone =[]\n",
    "discount =[]\n",
    "bank_name =[]\n",
    "hotel_name = []"
   ]
  },
  {
   "cell_type": "markdown",
   "metadata": {},
   "source": [
    "### Extracting the price"
   ]
  },
  {
   "cell_type": "code",
   "execution_count": null,
   "metadata": {},
   "outputs": [],
   "source": [
    "#assing price if post have only one price rate\n",
    "\n",
    "Price_finder = re.findall(r'full board|half board', text, flags=re.IGNORECASE)\n",
    "hb_price=re.findall(r\"(\\d{1,5})(?=\\s*nett)|(\\d{1,5})(?=\\s*LKR)|(\\d{1,5})(?=\\s*lkr)|(\\d{1,5})(?=\\s*Lkr)|(\\d{1,5})(?=\\s*Nett)|(\\d{1,5})(?=\\s*NETT)|(?<=LKR\\s)(\\d{1,5})|(?<=lkr\\s)(\\d{1,5})|(?<=Lkr\\s)(\\d{1,5})|(?<=Rs.\\s)(\\d{1,5})|(?<=rs.\\s)(\\d{1,5})|(?<=RS.\\s)(\\d{1,5})\", text)\n",
    "\n",
    "#cleanup the tuple\n",
    "hb_price = [tuple(j for j in i if j)[-1] for i in hb_price]\n",
    "hb_price\n",
    "\n",
    "if len(hb_price) == 1 and Price_finder == ['full board']:\n",
    "    full_board_Price = hb_price\n",
    "elif len(hb_price) == 1 and Price_finder == ['half board']:\n",
    "    half_board_Price = hb_price\n",
    "else:\n",
    " print(\"post has two price rates\")"
   ]
  },
  {
   "cell_type": "code",
   "execution_count": null,
   "metadata": {},
   "outputs": [],
   "source": [
    "#extracting full board and half board prices based on the max and min prices\n",
    "#getting the min price as half board price and getting the max price as full board price\n",
    "\n",
    "if len(hb_price) == 2:\n",
    " hb_price = list(map(float,hb_price))\n",
    " half_board_Price=min(hb_price)\n",
    " half_board_Price = [float(half_board_Price)]\n",
    "\n",
    " hb_price = list(map(float,hb_price))\n",
    " full_board_Price=max(hb_price)\n",
    " full_board_Price = [float(full_board_Price)]\n",
    "else:\n",
    "    exit"
   ]
  },
  {
   "cell_type": "code",
   "execution_count": null,
   "metadata": {},
   "outputs": [],
   "source": [
    "half_board_Price"
   ]
  },
  {
   "cell_type": "code",
   "execution_count": null,
   "metadata": {},
   "outputs": [],
   "source": [
    "full_board_Price"
   ]
  },
  {
   "cell_type": "markdown",
   "metadata": {},
   "source": [
    "### Extracting the email"
   ]
  },
  {
   "cell_type": "code",
   "execution_count": null,
   "metadata": {},
   "outputs": [],
   "source": [
    "email = re.findall(r'[\\w\\.-]+@[\\w\\.-]+', text) #getting the email\n",
    "email"
   ]
  },
  {
   "cell_type": "markdown",
   "metadata": {},
   "source": [
    "### Extracting the website"
   ]
  },
  {
   "cell_type": "code",
   "execution_count": null,
   "metadata": {},
   "outputs": [],
   "source": [
    "website = re.findall(r'[www]\\S*', text) #getting the email\n",
    "website"
   ]
  },
  {
   "cell_type": "markdown",
   "metadata": {},
   "source": [
    "### Extracting the contact number"
   ]
  },
  {
   "cell_type": "code",
   "execution_count": null,
   "metadata": {},
   "outputs": [],
   "source": [
    "phone = re.findall(r'\\d{10}|\\d{11}|\\d{9}', text)\n",
    "phone"
   ]
  },
  {
   "cell_type": "markdown",
   "metadata": {},
   "source": [
    "### Extracting the date"
   ]
  },
  {
   "cell_type": "code",
   "execution_count": null,
   "metadata": {},
   "outputs": [],
   "source": [
    "date = re.findall(r'[0-9]{2}-[0-9]{2}-[0-9]{4}|[0-9]{4}-[0-9]{2}-[0-9]{2}|[0-9]{2}-[0-9]{2}-[0-9]{2}|[0-9]{2}/[0-9]{2}/[0-9]{4}|[0-9]{4}/[0-9]{2}/[0-9]{2}|[0-9]{2}/[0-9]{2}/[0-9]{2}', text,re.IGNORECASE)\n",
    "date"
   ]
  },
  {
   "cell_type": "markdown",
   "metadata": {},
   "source": [
    "### Extracting the discount rate"
   ]
  },
  {
   "cell_type": "code",
   "execution_count": null,
   "metadata": {},
   "outputs": [],
   "source": [
    "discount =  re.findall(r'\\d.%', text)\n",
    "discount"
   ]
  },
  {
   "cell_type": "markdown",
   "metadata": {},
   "source": [
    "### Extracting the card payment offered bank names and hotel name"
   ]
  },
  {
   "cell_type": "code",
   "execution_count": null,
   "metadata": {},
   "outputs": [],
   "source": [
    "bank_name = re.findall(r'Sampath Bank|Amana Bank PLC|Bank of Ceylon|Bank of China Ltd|Cargills Bank Ltd|Citibank|Commercial Bank of Ceylon PLC|Deutsche Bank AG|DFCC Bank PLC|Habib Bank Ltd|Hatton National Bank PLC|Indian Bank|Indian Overseas Bank|MCB Bank Ltd|National Development Bank PLC|Nations Trust Bank PLC|Pan Asia Banking Corporation PLC|People s Bank|Public Bank Berhad|Seylan Bank|Standard Chartered Bank|State Bank of India|HSBC|Union Bank of Colombo|American Express|Amex|Seylan|ComBank|ABL|BOC|CBC|DFCC|HNB|ICICI|NDB|NTB|SBI|HSBC', text, flags=re.IGNORECASE)\n",
    "bank_name"
   ]
  },
  {
   "cell_type": "code",
   "execution_count": null,
   "metadata": {},
   "outputs": [],
   "source": [
    "hotel_name = re.findall(r'Bilin Tree House|The Bartizan Gallefort|Mount Breeze Hotel|Ceylon City Hotel|Oak Ray Haridra Beach Resort|The Halcyon Galle|Mango House|The Golden Crown|Fairview Hotel|Oak Ray Wild Yala|Oak Ray Ella Gap Hotel|Jetwing Colombo|Lakewood Residence, Kandy|Oak Ray Tea Bush, Ramboda|Hotel mahanuge Polonnaruwa|Berjaya Hotel|North Gate by Jetwing, Jaffna|Oak Ray Regency Kandy|The heritage hotel Galle fort|Hotel Sapphire|Oak-Ray Summer Hill Breeze|Concord Grand|Arabella on Boossa|Araliya Green Hills Hotel|Rock Fort Unawatuna|Tree of Life Nature Resort Kandy|The Barnhouse|Jie Jie Beach by Jetwing|Yara Galle fort|Cinnamon Hotel|Liyya Water Villas|Le Grand, Galle|Earls Regency Hotel Kandy|Araliya red, Nuwara eliya|Mandarina Colombo|Kandy City Hotel by Earls|Hotel Sudu Araliya, Polonnaruwa|Serene Pavilions|The Rainforest Ecolodge|Oak Ray Hotels & Resorts|Anantaya Resort and Spa|Heritage Anuradhapura|Taj Samudra|Grand Udawalawe Safari Resort', text, flags=re.IGNORECASE)\n",
    "hotel_name"
   ]
  },
  {
   "cell_type": "markdown",
   "metadata": {},
   "source": [
    "### Append extracted data to a dataframe and save as a csv file "
   ]
  },
  {
   "cell_type": "code",
   "execution_count": null,
   "metadata": {},
   "outputs": [],
   "source": [
    "#make a dataframe \n",
    "df = pd.DataFrame(list(zip(*[hotel_name,half_board_Price,full_board_Price,website,phone,date,discount,bank_name]))).add_prefix('Col')\n",
    "df.rename(columns = {'Col0':'hotel_name','Col1':'half_board_Price','Col2':'full_board_Price','Col3':'website','Col4':'phone','Col5':'date','Col6':'discount','Col7':'bank_name'}, inplace = True)\n",
    "\n",
    "#save dataframe as a csv\n",
    "df.to_csv('data.csv', index=False)"
   ]
  }
 ],
 "metadata": {
  "kernelspec": {
   "display_name": "Python 3",
   "language": "python",
   "name": "python3"
  },
  "language_info": {
   "codemirror_mode": {
    "name": "ipython",
    "version": 3
   },
   "file_extension": ".py",
   "mimetype": "text/x-python",
   "name": "python",
   "nbconvert_exporter": "python",
   "pygments_lexer": "ipython3",
   "version": "3.9.2"
  }
 },
 "nbformat": 4,
 "nbformat_minor": 4
}
