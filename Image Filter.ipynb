{
 "cells": [
  {
   "cell_type": "code",
   "execution_count": 16,
   "metadata": {},
   "outputs": [
    {
     "name": "stderr",
     "output_type": "stream",
     "text": [
      "[nltk_data] Downloading package wordnet to\n",
      "[nltk_data]     C:\\Users\\Sanjana\\AppData\\Roaming\\nltk_data...\n",
      "[nltk_data]   Package wordnet is already up-to-date!\n"
     ]
    }
   ],
   "source": [
    "from PIL import Image\n",
    "import pytesseract\n",
    "import argparse\n",
    "import cv2\n",
    "import os\n",
    "import pandas as pd\n",
    "import seaborn as sns\n",
    "import matplotlib.pyplot as plt\n",
    "import numpy as np\n",
    "import csv\n",
    "import nltk\n",
    "nltk.download('wordnet')\n",
    "import re\n",
    "from nltk.tokenize import word_tokenize\n",
    "from nltk.corpus import wordnet"
   ]
  },
  {
   "cell_type": "code",
   "execution_count": 17,
   "metadata": {},
   "outputs": [],
   "source": [
    "#Import the image\n",
    "\n",
    "imagePath = r'E:\\Dataset\\Cinnamon Hotels\\67697818_2309562589129520_7355948160956497920_n.jpg'\n",
    "\n",
    "img = cv2.imread(imagePath, 0)"
   ]
  },
  {
   "cell_type": "code",
   "execution_count": 18,
   "metadata": {},
   "outputs": [
    {
     "name": "stdout",
     "output_type": "stream",
     "text": [
      "‘night stay jsarunoay 1 night stay jesi0ay to sunoay)\n",
      "\n",
      "lkr 11,000 lkr 9,500\n",
      "\n",
      "nett per person double full board basis nett per person double full board basis\n",
      "\n",
      "bring your own kite & get 20% off on food & beverage\n",
      "\n",
      "kite fest 2019\n",
      "\n",
      "m4 conditions apply\n",
      "\n",
      " \n",
      "\f",
      "\n"
     ]
    }
   ],
   "source": [
    "#Extract text from the image using tesseract\n",
    "\n",
    "pytesseract.pytesseract.tesseract_cmd = r'C:\\Program Files\\Tesseract-OCR\\tesseract.exe'\n",
    "\n",
    "text=(pytesseract.image_to_string(img)).lower()\n",
    "print(text)"
   ]
  },
  {
   "cell_type": "code",
   "execution_count": 19,
   "metadata": {},
   "outputs": [
    {
     "name": "stdout",
     "output_type": "stream",
     "text": [
      "['‘', 'night', 'stay', 'jsarunoay', '1', 'night', 'stay', 'jesi0ay', 'to', 'sunoay', ')', 'lkr', '11,000', 'lkr', '9,500', 'nett', 'per', 'person', 'double', 'full', 'board', 'basis', 'nett', 'per', 'person', 'double', 'full', 'board', 'basis', 'bring', 'your', 'own', 'kite', '&', 'get', '20', '%', 'off', 'on', 'food', '&', 'beverage', 'kite', 'fest', '2019', 'm4', 'conditions', 'apply']\n"
     ]
    },
    {
     "name": "stderr",
     "output_type": "stream",
     "text": [
      "[nltk_data] Downloading package punkt to\n",
      "[nltk_data]     C:\\Users\\Sanjana\\AppData\\Roaming\\nltk_data...\n",
      "[nltk_data]   Package punkt is already up-to-date!\n"
     ]
    }
   ],
   "source": [
    "#Tokenize text\n",
    "\n",
    "nltk.download('punkt')\n",
    "print(word_tokenize(text))"
   ]
  },
  {
   "cell_type": "code",
   "execution_count": 20,
   "metadata": {},
   "outputs": [
    {
     "name": "stdout",
     "output_type": "stream",
     "text": [
      "['night', 'stay', 'jsarunoay', '1', 'night', 'stay', 'jesi0ay', 'to', 'sunoay', 'lkr', '11', '000', 'lkr', '9', '500', 'nett', 'per', 'person', 'double', 'full', 'board', 'basis', 'nett', 'per', 'person', 'double', 'full', 'board', 'basis', 'bring', 'your', 'own', 'kite', 'get', '20', 'off', 'on', 'food', 'beverage', 'kite', 'fest', '2019', 'm4', 'conditions', 'apply']\n"
     ]
    }
   ],
   "source": [
    "tokenizer = nltk.RegexpTokenizer(r\"\\w+\")\n",
    "new_words = tokenizer.tokenize(text)\n",
    "print(new_words)"
   ]
  },
  {
   "cell_type": "code",
   "execution_count": 21,
   "metadata": {},
   "outputs": [
    {
     "name": "stdout",
     "output_type": "stream",
     "text": [
      "night stay jsarunoay 1 night stay jesi0ay to sunoay lkr 11 000 lkr 9 500 nett per person double full board basis nett per person double full board basis bring your own kite get 20 off on food beverage kite fest 2019 m4 conditions apply\n"
     ]
    }
   ],
   "source": [
    "#convert words to string\n",
    "\n",
    "def listToString(s): \n",
    "    \n",
    "    str1 = \" \"   \n",
    "    return (str1.join(s))\n",
    "\n",
    "s = new_words\n",
    "\n",
    "print(listToString(s))"
   ]
  },
  {
   "cell_type": "code",
   "execution_count": 22,
   "metadata": {},
   "outputs": [
    {
     "data": {
      "text/plain": [
       "['Related']"
      ]
     },
     "execution_count": 22,
     "metadata": {},
     "output_type": "execute_result"
    }
   ],
   "source": [
    "#Find the image related or not using keywords\n",
    "\n",
    "matches_list = ['food', 'Dance']\n",
    "matches_to_category = {'food': 'Related', 'Dance': 'Not Related'}\n",
    "\n",
    "def match(input_string, string_list):\n",
    "    cat = []\n",
    "    words = re.findall(r'\\w+', input_string)\n",
    "    keywords = set([word for word in words if word in string_list])\n",
    "    for keyword in keywords:\n",
    "        cat.append(matches_to_category[keyword])\n",
    "    return cat\n",
    "\n",
    "match(text, matches_list)"
   ]
  },
  {
   "cell_type": "code",
   "execution_count": 23,
   "metadata": {},
   "outputs": [],
   "source": [
    "K = match(text, matches_list)\n",
    "ip = r'E:\\\\Research\\\\'"
   ]
  },
  {
   "cell_type": "code",
   "execution_count": 24,
   "metadata": {},
   "outputs": [],
   "source": [
    "if K == ['Related']:\n",
    "  cv2.imwrite(r'E:\\Research\\Related Images\\image.jpg', img)\n",
    "else:\n",
    "    print('unrelated image')"
   ]
  },
  {
   "cell_type": "code",
   "execution_count": 25,
   "metadata": {},
   "outputs": [],
   "source": [
    "matches_list = ['price', 'any','food','service']\n",
    "matches_to_category = {'price': 'Hotel', 'Ball': 'event',}\n",
    "\n",
    "def match(input_string, new_words):\n",
    "    cat = [] \n",
    "    words = re.findall(r'\\w+', new_words)\n",
    "    keywords = set([word for word in words if word in new_words])\n",
    "    for keyword in keywords:  # Iterate over words found for a line\n",
    "        cat.append(matches_to_category[keyword])  # Add category to keyword\n",
    "    return cat"
   ]
  }
 ],
 "metadata": {
  "kernelspec": {
   "display_name": "Python 3",
   "language": "python",
   "name": "python3"
  },
  "language_info": {
   "codemirror_mode": {
    "name": "ipython",
    "version": 3
   },
   "file_extension": ".py",
   "mimetype": "text/x-python",
   "name": "python",
   "nbconvert_exporter": "python",
   "pygments_lexer": "ipython3",
   "version": "3.9.2"
  }
 },
 "nbformat": 4,
 "nbformat_minor": 4
}
