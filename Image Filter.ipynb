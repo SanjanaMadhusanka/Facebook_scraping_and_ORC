{
 "cells": [
  {
   "cell_type": "markdown",
   "metadata": {},
   "source": [
    "# Image Filter"
   ]
  },
  {
   "cell_type": "code",
   "execution_count": null,
   "metadata": {},
   "outputs": [],
   "source": [
    "from PIL import Image\n",
    "import pytesseract\n",
    "import argparse\n",
    "import cv2\n",
    "import os\n",
    "import pandas as pd\n",
    "import seaborn as sns\n",
    "import matplotlib.pyplot as plt\n",
    "import numpy as np\n",
    "import csv\n",
    "import nltk\n",
    "nltk.download('wordnet')\n",
    "import re\n",
    "from nltk.tokenize import word_tokenize\n",
    "from nltk.corpus import wordnet"
   ]
  },
  {
   "cell_type": "code",
   "execution_count": null,
   "metadata": {},
   "outputs": [],
   "source": [
    "#Import the image\n",
    "\n",
    "imagePath = r'173753861_1416232325411989_2526540621172327056_n.jpg'\n",
    "\n",
    "img = cv2.imread(imagePath, 0)"
   ]
  },
  {
   "cell_type": "code",
   "execution_count": null,
   "metadata": {},
   "outputs": [],
   "source": [
    "#Extract text from the image using tesseract\n",
    "\n",
    "pytesseract.pytesseract.tesseract_cmd = r'C:\\Program Files\\Tesseract-OCR\\tesseract.exe'\n",
    "\n",
    "text=(pytesseract.image_to_string(img)).lower()\n",
    "print(text)"
   ]
  },
  {
   "cell_type": "code",
   "execution_count": null,
   "metadata": {},
   "outputs": [],
   "source": [
    "#Tokenize text\n",
    "\n",
    "nltk.download('punkt')\n",
    "print(word_tokenize(text))"
   ]
  },
  {
   "cell_type": "code",
   "execution_count": null,
   "metadata": {},
   "outputs": [],
   "source": [
    "tokenizer = nltk.RegexpTokenizer(r\"\\w+\")\n",
    "new_words = tokenizer.tokenize(text)\n",
    "print(new_words)"
   ]
  },
  {
   "cell_type": "code",
   "execution_count": null,
   "metadata": {},
   "outputs": [],
   "source": [
    "#convert words to string\n",
    "\n",
    "def listToString(s): \n",
    "    \n",
    "    str1 = \" \"   \n",
    "    return (str1.join(s))\n",
    "\n",
    "s = new_words\n",
    "\n",
    "print(listToString(s))"
   ]
  },
  {
   "cell_type": "code",
   "execution_count": null,
   "metadata": {},
   "outputs": [],
   "source": [
    "#Find the image related or not using keywords\n",
    "\n",
    "matches_list = ['hotel rooms','rooms','room','full board','half board','night','nights','stay',\"hb\",'fb','dance','event','new year','wish','dj','music','happy','menu']\n",
    "matches_to_category = {'hotel rooms':'related','rooms':'related','room':'related','full board':'related','half board':'related','night':'related','nights':'related','stay':'related','hb':'related','fb':'related','dance':'not related','event':'not related','wish':'not related','dj':'not related','music':'not related','happy':'not related','menu':'not related'}\n",
    "\n",
    "def match(input_string, string_list):\n",
    "    cat = []\n",
    "    words = re.findall(r'\\w+', input_string)\n",
    "    keywords = set([word for word in words if word in string_list])\n",
    "    for keyword in keywords:\n",
    "        cat.append(matches_to_category[keyword])\n",
    "    return cat\n",
    "\n",
    "match(text, matches_list)"
   ]
  },
  {
   "cell_type": "code",
   "execution_count": null,
   "metadata": {},
   "outputs": [],
   "source": [
    "K = match(text, matches_list)\n",
    "ip = r'E:\\\\Research\\\\'"
   ]
  },
  {
   "cell_type": "code",
   "execution_count": null,
   "metadata": {},
   "outputs": [],
   "source": [
    "if K == ['related']:\n",
    "  cv2.imwrite(r'E:\\Research\\Related Images\\image.jpg', img)\n",
    "else:\n",
    "    print('unrelated image')"
   ]
  }
 ],
 "metadata": {
  "kernelspec": {
   "display_name": "Python 3",
   "language": "python",
   "name": "python3"
  },
  "language_info": {
   "codemirror_mode": {
    "name": "ipython",
    "version": 3
   },
   "file_extension": ".py",
   "mimetype": "text/x-python",
   "name": "python",
   "nbconvert_exporter": "python",
   "pygments_lexer": "ipython3",
   "version": "3.9.2"
  }
 },
 "nbformat": 4,
 "nbformat_minor": 4
}
